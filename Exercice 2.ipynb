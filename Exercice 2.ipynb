{
 "cells": [
  {
   "cell_type": "code",
   "execution_count": 3,
   "id": "57545038",
   "metadata": {},
   "outputs": [
    {
     "name": "stdout",
     "output_type": "stream",
     "text": [
      "Nombre d'échantillons : 20\n",
      "Tableau : [5.28157517, 0.9065559, 2.69484, 8.13128328, 7.36194024]\n",
      "Moyenne: 1.2188097295\n",
      "Deuxième coefficient de corrélation: 5.489609152283628\n",
      "***************************************\n",
      "Nombre d'échantillons : 20\n",
      "Tableau : [-13.72201998  -8.64674231  -5.87147941  11.2276082    4.0703924\n",
      "   1.5930238   17.92232391 -46.0189407   -2.26542439 -18.73971134\n",
      "   1.74563207  -7.51584664 -15.66445378  34.26136324 -20.23255316\n",
      "  41.30303596  40.85868551  -6.22029822  35.88313251  21.46212459]\n",
      "Moyenne: 3.271492612904937\n",
      "Deuxième coefficient de corrélation: 530.2264253804988\n",
      "***************************************\n",
      "Puissance de tab: 10288.355360555306\n",
      "Classe Aléatoire\n",
      "***************************************\n",
      "Nombre d'échantillons : 20\n",
      "Tableau : [3, 3, 3, 3, 3, 3, 3, 3, 3, 3, -3, -3, -3, -3, -3, -3, -3, -3, -3, -3]\n",
      "Moyenne: 0.0\n",
      "Deuxième coefficient de corrélation: 9.473684210526315\n",
      "***************************************\n",
      "Nombre d'échantillons : 20\n",
      "Tableau : [2.9695967623661685, 7.971175308291895, 7.52072392138717, 1.5819493656125818, 8.259272907309578, 2.771235919662866, 10.07817149258279, 13.519172996265068, 0.8574828257299485, -4.453954359708396, 5.535494484708501, 0.22228590043481056, 4.909140753022366, -14.107753007330992, -1.9282286961260904, 4.5796045633015705, -0.6555131622233534, -5.600606711743872, 0.14951621080334299, 4.804881850077699]\n",
      "Moyenne: 2.4491824662211825\n",
      "Deuxième coefficient de corrélation: 38.19337106713748\n"
     ]
    }
   ],
   "source": [
    "from Un import Signal, Aléatoire,Déterministe,Addition\n",
    "\n",
    "\n",
    "#question 1:\n",
    "sig = Signal(20, [5.28157517, 0.9065559, 2.69484, 8.13128328, 7.36194024])\n",
    "sig.display()\n",
    "print('***************************************')\n",
    "#question 2\n",
    "aleatoire = Aléatoire(20, 2, 20, [])\n",
    "aleatoire.Init_Alea()\n",
    "aleatoire.display()\n",
    "print('***************************************')\n",
    "#question 3\n",
    "aleatoire.correlation()\n",
    "print('***************************************')\n",
    "#question 4\n",
    "deterministe = Déterministe(20, 3)\n",
    "deterministe.valeurs()\n",
    "deterministe.display()\n",
    "print('***************************************')\n",
    "#question5\n",
    "aleatoire = Aléatoire(5, 2, 20, [])\n",
    "aleatoire.Init_Alea()\n",
    "deterministe = Déterministe(20, 3)\n",
    "deterministe.valeurs()\n",
    "resultat = Addition(aleatoire, deterministe)\n",
    "resultat.display()"
   ]
  },
  {
   "cell_type": "code",
   "execution_count": null,
   "id": "ab6a79e3",
   "metadata": {},
   "outputs": [],
   "source": []
  }
 ],
 "metadata": {
  "kernelspec": {
   "display_name": "Python 3 (ipykernel)",
   "language": "python",
   "name": "python3"
  },
  "language_info": {
   "codemirror_mode": {
    "name": "ipython",
    "version": 3
   },
   "file_extension": ".py",
   "mimetype": "text/x-python",
   "name": "python",
   "nbconvert_exporter": "python",
   "pygments_lexer": "ipython3",
   "version": "3.9.12"
  }
 },
 "nbformat": 4,
 "nbformat_minor": 5
}
