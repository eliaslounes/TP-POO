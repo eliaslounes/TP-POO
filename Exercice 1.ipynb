{
 "cells": [
  {
   "cell_type": "code",
   "execution_count": 1,
   "id": "f4df867a",
   "metadata": {},
   "outputs": [
    {
     "name": "stdout",
     "output_type": "stream",
     "text": [
      "titulaire or stagiaire:titulaire\n",
      "---------------------------------\n",
      "\u001b[92mLes informations de l'ingénieur:\u001b[0m\n",
      "---------------------------------\n",
      "etat: titulaire\n",
      "Nom: Jean\n",
      "ID: 100\n",
      "Point indiciaire: 3000\n",
      "Salaire: 18000000\n",
      "Statut: ingenieur titulaire\n",
      "*************************************************\n",
      "titulaire or stagiaire:titulaire\n",
      "---------------------------------\n",
      "\u001b[92mLes informations du technicien:\u001b[0m\n",
      "---------------------------------\n",
      "etat: titulaire\n",
      "Nom: Jean\n",
      "ID: 100\n",
      "Point indiciaire: 3000\n",
      "Salaire: 9000000.0\n",
      "Statut: technicien titulaire\n"
     ]
    }
   ],
   "source": [
    "from emp import ingenieur \n",
    "from emp import technicien\n",
    "\n",
    "#question2\n",
    "ing1 = ingenieur( input('titulaire or stagiaire:'),'Jean', 100, 500)\n",
    "a = True\n",
    "ing1.affichage(a)\n",
    "     \n",
    "print('*************************************************')\n",
    "\n",
    "#question3\n",
    "tech1 = technicien( input('titulaire or stagiaire:'),'Jean', 100, 500)\n",
    "a= False\n",
    "tech1.affichage(a)"
   ]
  },
  {
   "cell_type": "code",
   "execution_count": null,
   "id": "7d101d33",
   "metadata": {},
   "outputs": [],
   "source": []
  }
 ],
 "metadata": {
  "kernelspec": {
   "display_name": "Python 3 (ipykernel)",
   "language": "python",
   "name": "python3"
  },
  "language_info": {
   "codemirror_mode": {
    "name": "ipython",
    "version": 3
   },
   "file_extension": ".py",
   "mimetype": "text/x-python",
   "name": "python",
   "nbconvert_exporter": "python",
   "pygments_lexer": "ipython3",
   "version": "3.9.12"
  }
 },
 "nbformat": 4,
 "nbformat_minor": 5
}
